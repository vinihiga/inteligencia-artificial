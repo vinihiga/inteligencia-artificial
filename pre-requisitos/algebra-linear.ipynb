{
 "cells": [
  {
   "cell_type": "markdown",
   "id": "c4cb32a5-17c8-4875-bafb-6b1d6ae12cc0",
   "metadata": {},
   "source": [
    "# Álgebea Linear\n",
    "\n",
    "Esse notebook terá como objetivo demonstrar alguns fundamentos de Álgebra Linear para alguns tópicos de Inteligência Artificial que contém nesse repositório."
   ]
  },
  {
   "cell_type": "markdown",
   "id": "bb753849-b89b-41d7-bab8-fb7a53fbee97",
   "metadata": {},
   "source": [
    "## Grandeza Escalar\n",
    "\n",
    "Utilizando brevemente o wikipédia para obter uma explicação do que é uma Grandeza Escalar... Podemos definir que é simplesmente um valor numérico, um valor unidimensional em contrastate aos vetores, matrizes, tensores, sequências e etc.\n",
    "\n",
    "Outro exemplo que podemos utilizar é o livro digital d2l.ai, onde diz que para convertermos uma temperatura em Fahrenheit para Celsius, nós precisaremos aplicar a seguinte fórmula \"c = 5/9 * (f - 32)\", onde o 5, 9 e 32 são constantes escalares e as letras \"c\" e \"f\" são escalares variáveis - incógnitas."
   ]
  },
  {
   "cell_type": "markdown",
   "id": "2a0002ce-6911-4d9f-bec6-571e6741cecf",
   "metadata": {},
   "source": [
    "## Vetores\n",
    "\n",
    "Diferentemente de uma Grandeza Escalar, os Vetores são compostos por 2 ou mais dimensões e também podemos definir na Física como algo que tem direção, sentido e módulo. Nesse caso iremos focar como a Ciência da Computação define... Serão arranjos."
   ]
  },
  {
   "cell_type": "markdown",
   "id": "a37db714-97a7-4ef0-9f4a-097a9ec5aa45",
   "metadata": {},
   "source": [
    "## Matrizes"
   ]
  },
  {
   "cell_type": "markdown",
   "id": "907b4462-c3ce-4ee5-b9f5-21c3359cf596",
   "metadata": {},
   "source": [
    "## Tensores"
   ]
  },
  {
   "cell_type": "markdown",
   "id": "85f9c567-6398-4356-a9b6-aee2a1fc4596",
   "metadata": {},
   "source": [
    "## Propriedades Básicas"
   ]
  },
  {
   "cell_type": "code",
   "execution_count": null,
   "id": "342af090-5985-4ceb-89b9-ac62de797dab",
   "metadata": {},
   "outputs": [],
   "source": []
  }
 ],
 "metadata": {
  "kernelspec": {
   "display_name": "Python 3 (ipykernel)",
   "language": "python",
   "name": "python3"
  },
  "language_info": {
   "codemirror_mode": {
    "name": "ipython",
    "version": 3
   },
   "file_extension": ".py",
   "mimetype": "text/x-python",
   "name": "python",
   "nbconvert_exporter": "python",
   "pygments_lexer": "ipython3",
   "version": "3.9.6"
  }
 },
 "nbformat": 4,
 "nbformat_minor": 5
}
